{
    "cells": [
        {
            "cell_type": "markdown",
            "metadata": {
                "collapsed": true
            },
            "source": "<h1>Coursera Capstone Project</h1>\n<h2>Introduction/Business Problem</h2>"
        },
        {
            "cell_type": "markdown",
            "metadata": {},
            "source": "This report is going to explore the similarity of central area of New York and Hong Kong.\n<br>New York and Hong Kong, are two financial centers sharing similar working and living experience. And I will use data to illustrate and measure these two cities, with the venues' information from Foursquare.com."
        },
        {
            "cell_type": "code",
            "execution_count": null,
            "metadata": {},
            "outputs": [],
            "source": ""
        }
    ],
    "metadata": {
        "kernelspec": {
            "display_name": "Python 3.7",
            "language": "python",
            "name": "python3"
        },
        "language_info": {
            "codemirror_mode": {
                "name": "ipython",
                "version": 3
            },
            "file_extension": ".py",
            "mimetype": "text/x-python",
            "name": "python",
            "nbconvert_exporter": "python",
            "pygments_lexer": "ipython3",
            "version": "3.7.9"
        }
    },
    "nbformat": 4,
    "nbformat_minor": 1
}