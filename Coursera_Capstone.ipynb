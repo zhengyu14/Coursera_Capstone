{
    "cells": [
        {
            "metadata": {
                "collapsed": true
            },
            "cell_type": "markdown",
            "source": "<h1>Coursera Capstone Project</h1>"
        },
        {
            "metadata": {},
            "cell_type": "code",
            "source": "import pandas as pd\nimport numpy as np",
            "execution_count": 1,
            "outputs": []
        },
        {
            "metadata": {},
            "cell_type": "code",
            "source": "print(\"Hello Capstone Project Course!\")",
            "execution_count": 2,
            "outputs": [
                {
                    "output_type": "stream",
                    "text": "Hello Capstone Project Course!\n",
                    "name": "stdout"
                }
            ]
        },
        {
            "metadata": {},
            "cell_type": "markdown",
            "source": "<h2>1. Peer-graded Assignment: Segmenting and Clustering Neighborhoods in Toronto</h2>"
        },
        {
            "metadata": {},
            "cell_type": "markdown",
            "source": "<p>1.1 Scrap the postal code table from the wiki website</p>"
        },
        {
            "metadata": {},
            "cell_type": "code",
            "source": "import requests\nfrom bs4 import BeautifulSoup\nimport pandas as pd\n\nwiki_url = 'https://en.wikipedia.org/wiki/List_of_postal_codes_of_Canada:_M'\nwiki_html_raw = requests.get(wiki_url).text\nsoup = BeautifulSoup(wiki_html_raw, \"lxml\")\nwiki_html_table = soup.find(\"table\", attrs={\"class\": \"wikitable\"})\nwiki_html_table_data = wiki_html_table.tbody.find_all(\"tr\")\npostal_code = []\nborough = []\nneighbourhood = []\n\nfor i in range(len(wiki_html_table_data)):\n    if i != 0:\n        cols = wiki_html_table_data[i].find_all(\"td\")\n        postal_code.append(cols[0].text.replace(\"\\n\",\"\"))\n        borough.append(cols[1].text.replace(\"\\n\",\"\"))\n        neighbourhood.append(cols[2].text.replace(\"\\n\",\"\"))",
            "execution_count": 3,
            "outputs": []
        },
        {
            "metadata": {},
            "cell_type": "code",
            "source": "data = pd.DataFrame()\ndata['PostalCode'] = postal_code\ndata['Borough'] = borough\ndata['Neighbourhood'] = neighbourhood\n\ndata.head()",
            "execution_count": 4,
            "outputs": [
                {
                    "output_type": "execute_result",
                    "execution_count": 4,
                    "data": {
                        "text/plain": "  PostalCode           Borough              Neighbourhood\n0        M1A      Not assigned               Not assigned\n1        M2A      Not assigned               Not assigned\n2        M3A        North York                  Parkwoods\n3        M4A        North York           Victoria Village\n4        M5A  Downtown Toronto  Regent Park, Harbourfront",
                        "text/html": "<div>\n<style scoped>\n    .dataframe tbody tr th:only-of-type {\n        vertical-align: middle;\n    }\n\n    .dataframe tbody tr th {\n        vertical-align: top;\n    }\n\n    .dataframe thead th {\n        text-align: right;\n    }\n</style>\n<table border=\"1\" class=\"dataframe\">\n  <thead>\n    <tr style=\"text-align: right;\">\n      <th></th>\n      <th>PostalCode</th>\n      <th>Borough</th>\n      <th>Neighbourhood</th>\n    </tr>\n  </thead>\n  <tbody>\n    <tr>\n      <th>0</th>\n      <td>M1A</td>\n      <td>Not assigned</td>\n      <td>Not assigned</td>\n    </tr>\n    <tr>\n      <th>1</th>\n      <td>M2A</td>\n      <td>Not assigned</td>\n      <td>Not assigned</td>\n    </tr>\n    <tr>\n      <th>2</th>\n      <td>M3A</td>\n      <td>North York</td>\n      <td>Parkwoods</td>\n    </tr>\n    <tr>\n      <th>3</th>\n      <td>M4A</td>\n      <td>North York</td>\n      <td>Victoria Village</td>\n    </tr>\n    <tr>\n      <th>4</th>\n      <td>M5A</td>\n      <td>Downtown Toronto</td>\n      <td>Regent Park, Harbourfront</td>\n    </tr>\n  </tbody>\n</table>\n</div>"
                    },
                    "metadata": {}
                }
            ]
        },
        {
            "metadata": {},
            "cell_type": "markdown",
            "source": "<p>1.2 Process the table</p>"
        },
        {
            "metadata": {},
            "cell_type": "code",
            "source": "# Ignore cells with a borough that is Not assigned\ndata = data[data['Borough'] != 'Not assigned']\n\n# Find duplicate Postal Code\ndata[data[\"PostalCode\"].duplicated()]\n\n# If a cell has a borough but a Not assigned neighborhood, then the neighborhood will be the same as the borough\nfor i in range(len(data)):\n    if data.iloc[i]['Neighbourhood'] == 'Not assigned':\n        data.iloc[i]['Neighbourhood'] = data.iloc[i]['Borough']\n\ndata.head()",
            "execution_count": 5,
            "outputs": [
                {
                    "output_type": "execute_result",
                    "execution_count": 5,
                    "data": {
                        "text/plain": "  PostalCode           Borough                                Neighbourhood\n2        M3A        North York                                    Parkwoods\n3        M4A        North York                             Victoria Village\n4        M5A  Downtown Toronto                    Regent Park, Harbourfront\n5        M6A        North York             Lawrence Manor, Lawrence Heights\n6        M7A  Downtown Toronto  Queen's Park, Ontario Provincial Government",
                        "text/html": "<div>\n<style scoped>\n    .dataframe tbody tr th:only-of-type {\n        vertical-align: middle;\n    }\n\n    .dataframe tbody tr th {\n        vertical-align: top;\n    }\n\n    .dataframe thead th {\n        text-align: right;\n    }\n</style>\n<table border=\"1\" class=\"dataframe\">\n  <thead>\n    <tr style=\"text-align: right;\">\n      <th></th>\n      <th>PostalCode</th>\n      <th>Borough</th>\n      <th>Neighbourhood</th>\n    </tr>\n  </thead>\n  <tbody>\n    <tr>\n      <th>2</th>\n      <td>M3A</td>\n      <td>North York</td>\n      <td>Parkwoods</td>\n    </tr>\n    <tr>\n      <th>3</th>\n      <td>M4A</td>\n      <td>North York</td>\n      <td>Victoria Village</td>\n    </tr>\n    <tr>\n      <th>4</th>\n      <td>M5A</td>\n      <td>Downtown Toronto</td>\n      <td>Regent Park, Harbourfront</td>\n    </tr>\n    <tr>\n      <th>5</th>\n      <td>M6A</td>\n      <td>North York</td>\n      <td>Lawrence Manor, Lawrence Heights</td>\n    </tr>\n    <tr>\n      <th>6</th>\n      <td>M7A</td>\n      <td>Downtown Toronto</td>\n      <td>Queen's Park, Ontario Provincial Government</td>\n    </tr>\n  </tbody>\n</table>\n</div>"
                    },
                    "metadata": {}
                }
            ]
        },
        {
            "metadata": {},
            "cell_type": "code",
            "source": "data.shape",
            "execution_count": 6,
            "outputs": [
                {
                    "output_type": "execute_result",
                    "execution_count": 6,
                    "data": {
                        "text/plain": "(103, 3)"
                    },
                    "metadata": {}
                }
            ]
        },
        {
            "metadata": {},
            "cell_type": "code",
            "source": "",
            "execution_count": null,
            "outputs": []
        }
    ],
    "metadata": {
        "kernelspec": {
            "name": "python3",
            "display_name": "Python 3.6",
            "language": "python"
        },
        "language_info": {
            "name": "python",
            "version": "3.6.9",
            "mimetype": "text/x-python",
            "codemirror_mode": {
                "name": "ipython",
                "version": 3
            },
            "pygments_lexer": "ipython3",
            "nbconvert_exporter": "python",
            "file_extension": ".py"
        }
    },
    "nbformat": 4,
    "nbformat_minor": 1
}